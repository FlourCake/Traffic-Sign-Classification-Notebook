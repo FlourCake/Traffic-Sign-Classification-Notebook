{
 "cells": [
  {
   "cell_type": "markdown",
   "metadata": {},
   "source": [
    "# Import & Path"
   ]
  },
  {
   "cell_type": "markdown",
   "metadata": {},
   "source": [
    "## Import"
   ]
  },
  {
   "cell_type": "code",
   "execution_count": null,
   "metadata": {},
   "outputs": [],
   "source": [
    "import numpy as np\n",
    "import cv2\n",
    "import os\n",
    "import random"
   ]
  },
  {
   "cell_type": "markdown",
   "metadata": {},
   "source": [
    "## Path"
   ]
  },
  {
   "cell_type": "code",
   "execution_count": null,
   "metadata": {},
   "outputs": [],
   "source": [
    "basePath = os.getcwd()\n",
    "trainPath = os.path.join(os.getcwd(), \"Images\")\n",
    "testPath = os.path.join(os.getcwd(), \"Online-Test-sort\")\n",
    "print(trainPath)\n",
    "print(testPath)"
   ]
  },
  {
   "cell_type": "markdown",
   "metadata": {},
   "source": [
    "# Default Configuration"
   ]
  },
  {
   "cell_type": "code",
   "execution_count": null,
   "metadata": {},
   "outputs": [],
   "source": [
    "height = 128\n",
    "width = 128\n",
    "\n",
    "random.seed(42)\n",
    "np.random.seed(42)"
   ]
  },
  {
   "cell_type": "markdown",
   "metadata": {},
   "source": [
    "# Split & Enhance"
   ]
  },
  {
   "cell_type": "markdown",
   "metadata": {},
   "source": [
    "## Create Function"
   ]
  },
  {
   "cell_type": "code",
   "execution_count": null,
   "metadata": {},
   "outputs": [],
   "source": [
    "def enhance_data(data_dir, enhance_type = \"none\", test_data = False, robust = False):\n",
    "    for category in os.listdir(data_dir):\n",
    "        if (robust):\n",
    "            max = len(os.listdir(os.path.join(data_dir, category))) - 1\n",
    "            max = max + 30 - (max % 30)\n",
    "            max = max / 30\n",
    "            unique = random.randint(0, (max-1))\n",
    "            unique = str(unique)\n",
    "            unique = unique.zfill(5)\n",
    "\n",
    "        for file in os.listdir(os.path.join(data_dir, category)):\n",
    "            img = cv2.imread(os.path.join(data_dir, category, file))\n",
    "\n",
    "            if img is not None:\n",
    "                img = cv2.resize(img, (height, width))\n",
    "                clahe = cv2.createCLAHE(clipLimit=5.0, tileGridSize=(8,8))\n",
    "                kernel = np.array([[-1,-1,-1], [-1,9,-1], [-1,-1,-1]])\n",
    "\n",
    "                save_path = os.path.join(basePath, (enhance_type + \"-train\"), category)\n",
    "\n",
    "                match enhance_type:\n",
    "                    case \"gaussian\":\n",
    "                        img = cv2.GaussianBlur(img, (5, 5), 0)\n",
    "                    case \"median\":\n",
    "                        img = cv2.medianBlur(img, 5)\n",
    "                    case \"bilateral\":\n",
    "                        img = cv2.bilateralFilter(img, 9, 75, 75)\n",
    "                    case \"sharpen\":\n",
    "                        img = cv2.filter2D(img, -1, kernel)\n",
    "                    case \"clahe\":\n",
    "                        # img = cv2.cvtColor(img, cv2.COLOR_BGR2GRAY)\n",
    "                        # img = clahe.apply(img)\n",
    "                        img = cv2.cvtColor(img, cv2.COLOR_BGR2LAB)\n",
    "                        img[:,:,0] = clahe.apply(img[:,:,0])\n",
    "                        img = cv2.cvtColor(img, cv2.COLOR_LAB2BGR)\n",
    "                    case \"combo\":\n",
    "                        img = cv2.cvtColor(img, cv2.COLOR_BGR2LAB)\n",
    "                        img[:,:,0] = clahe.apply(img[:,:,0])\n",
    "                        img = cv2.cvtColor(img, cv2.COLOR_LAB2BGR)\n",
    "                        img = cv2.GaussianBlur(img, (5, 5), 0)\n",
    "                    case \"none\":\n",
    "                        pass\n",
    "                    case _:\n",
    "                        raise ValueError(f\"Unknown enhance type: {enhance_type}\")\n",
    "                    \n",
    "                if (robust):\n",
    "                    if (file.startswith(unique)):\n",
    "                        save_path = os.path.join(basePath, \"robust-test\", category)\n",
    "                    else:\n",
    "                        save_path = os.path.join(basePath, 'robust-train', category)\n",
    "                    \n",
    "                if (test_data):\n",
    "                    save_path = os.path.join(basePath, enhance_type + \"-test\", category)\n",
    "                    \n",
    "                if not os.path.exists(save_path):\n",
    "                    os.makedirs(save_path)\n",
    "                    \n",
    "                condition = cv2.imwrite(os.path.join(save_path, file), img)\n",
    "\n",
    "                if (not condition):\n",
    "                    print(os.path.join(save_path, file), condition)"
   ]
  },
  {
   "cell_type": "markdown",
   "metadata": {},
   "source": [
    "## Process Dataset\n",
    "\n",
    "Add some necessary enhance data for training models.\n",
    "\n",
    "In the current research we use 4 type of enhancement as mention below:\n",
    "\n",
    "|No|Type|\n",
    "|--|----|\n",
    "|1|Gaussian|\n",
    "|2|Sharpen|\n",
    "|3|Clahe|\n",
    "|4|Clahe & Gaussian|\n",
    "\n",
    "In order to create a robust model we also create some condition where we split 1 unique train dataset as test data and the rest as train data. All the data use gaussian blur."
   ]
  },
  {
   "cell_type": "markdown",
   "metadata": {},
   "source": [
    "### Enhance Dataset"
   ]
  },
  {
   "cell_type": "code",
   "execution_count": null,
   "metadata": {},
   "outputs": [],
   "source": [
    "enhance_data(trainPath, 'gaussian')\n",
    "enhance_data(trainPath, 'sharpen')\n",
    "enhance_data(trainPath, 'clahe')\n",
    "enhance_data(trainPath, 'combo')"
   ]
  },
  {
   "cell_type": "markdown",
   "metadata": {},
   "source": [
    "### Robust Dataset"
   ]
  },
  {
   "cell_type": "markdown",
   "metadata": {},
   "source": [
    "Create a robust model with test data taken from train data. With the configuration of each class, 1 set of unique images is taken for test data and the rest are for train data"
   ]
  },
  {
   "cell_type": "code",
   "execution_count": null,
   "metadata": {},
   "outputs": [],
   "source": [
    "enhance_data(trainPath, 'gaussian', robust = True)"
   ]
  },
  {
   "cell_type": "markdown",
   "metadata": {},
   "source": [
    "### Test Dataset"
   ]
  },
  {
   "cell_type": "code",
   "execution_count": null,
   "metadata": {},
   "outputs": [],
   "source": [
    "enhance_data(testPath, 'gaussian', test_data = True)\n",
    "enhance_data(testPath, 'sharpen', test_data = True)\n",
    "enhance_data(testPath, 'clahe', test_data = True)\n",
    "enhance_data(testPath, 'combo', test_data = True)"
   ]
  },
  {
   "cell_type": "code",
   "execution_count": null,
   "metadata": {},
   "outputs": [],
   "source": []
  }
 ],
 "metadata": {
  "kernelspec": {
   "display_name": "TugasAkhir",
   "language": "python",
   "name": "python3"
  },
  "language_info": {
   "codemirror_mode": {
    "name": "ipython",
    "version": 3
   },
   "file_extension": ".py",
   "mimetype": "text/x-python",
   "name": "python",
   "nbconvert_exporter": "python",
   "pygments_lexer": "ipython3",
   "version": "3.11.2"
  },
  "orig_nbformat": 4
 },
 "nbformat": 4,
 "nbformat_minor": 2
}
