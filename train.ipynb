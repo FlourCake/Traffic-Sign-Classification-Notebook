{
 "cells": [
  {
   "cell_type": "markdown",
   "metadata": {},
   "source": [
    "# Import & Path"
   ]
  },
  {
   "cell_type": "markdown",
   "metadata": {},
   "source": [
    "## Import"
   ]
  },
  {
   "cell_type": "code",
   "execution_count": null,
   "metadata": {},
   "outputs": [],
   "source": [
    "import numpy as np\n",
    "import tensorflow as tf\n",
    "from tensorflow.keras.models import Sequential\n",
    "from tensorflow.keras.layers import Dense, Flatten, Rescaling\n",
    "from tensorflow.keras.optimizers import Adam\n",
    "import matplotlib.pyplot as plt\n",
    "import os\n",
    "import math\n",
    "import pickle\n",
    "\n",
    "np.random.seed(42)"
   ]
  },
  {
   "cell_type": "markdown",
   "metadata": {},
   "source": [
    "## Path"
   ]
  },
  {
   "cell_type": "code",
   "execution_count": null,
   "metadata": {},
   "outputs": [],
   "source": [
    "basePath = os.getcwd()\n",
    "trainPath = os.path.join(os.getcwd(), \"Images\")\n",
    "print(trainPath)"
   ]
  },
  {
   "cell_type": "markdown",
   "metadata": {},
   "source": [
    "# Default Configuration"
   ]
  },
  {
   "cell_type": "code",
   "execution_count": null,
   "metadata": {},
   "outputs": [],
   "source": [
    "height = 128\n",
    "width = 128\n",
    "channels = 3\n",
    "label = \"categorical\""
   ]
  },
  {
   "cell_type": "markdown",
   "metadata": {},
   "source": [
    "# Model & Training Preparation"
   ]
  },
  {
   "cell_type": "markdown",
   "metadata": {},
   "source": [
    "## Load Dataset"
   ]
  },
  {
   "cell_type": "code",
   "execution_count": null,
   "metadata": {},
   "outputs": [],
   "source": [
    "def load_img(path, batch_size):\n",
    "  train = tf.keras.preprocessing.image_dataset_from_directory(\n",
    "    path,\n",
    "    labels = \"inferred\",\n",
    "    label_mode = label,\n",
    "    color_mode = \"rgb\",\n",
    "    batch_size = batch_size,\n",
    "    image_size = (height, width),\n",
    "    shuffle = True,\n",
    "    seed = 42,\n",
    "    subset = \"training\",\n",
    "    validation_split = 0.2\n",
    "  )\n",
    "\n",
    "  val = tf.keras.preprocessing.image_dataset_from_directory(\n",
    "    path,\n",
    "    labels = \"inferred\",\n",
    "    label_mode = label,\n",
    "    color_mode = \"rgb\",\n",
    "    batch_size = batch_size,\n",
    "    image_size = (height, width),\n",
    "    shuffle = True,\n",
    "    seed = 42,\n",
    "    subset = \"validation\",\n",
    "    validation_split = 0.2\n",
    "  )\n",
    "  \n",
    "  return train, val"
   ]
  },
  {
   "cell_type": "markdown",
   "metadata": {},
   "source": [
    "## Train Model"
   ]
  },
  {
   "cell_type": "code",
   "execution_count": null,
   "metadata": {},
   "outputs": [],
   "source": [
    "def TrainModel(train, val, learning_rate, epochs, pretrain_model, name, model_dir):\n",
    "    model = Sequential()\n",
    "    model.add(Rescaling(1./255))\n",
    "    model.add(pretrain_model)\n",
    "    model.add(Flatten())\n",
    "    model.add(Dense(512, activation='relu'))\n",
    "    model.add(Dense(43, activation='softmax'))\n",
    "\n",
    "    model.compile(loss='categorical_crossentropy', optimizer=Adam(learning_rate=math.pow(10, (learning_rate * -1))), metrics=['accuracy'])\n",
    "    history = model.fit(train, epochs=epochs, validation_data=val)\n",
    "    model.save(os.path.join(model_dir, (name + '.h5')))\n",
    "\n",
    "    return history"
   ]
  },
  {
   "cell_type": "markdown",
   "metadata": {},
   "source": [
    "## Evaluate Model"
   ]
  },
  {
   "cell_type": "code",
   "execution_count": null,
   "metadata": {},
   "outputs": [],
   "source": [
    "def EvaluateModel(name, history, epochs, model_dir):\n",
    "    acc = history.history['accuracy']\n",
    "    loss = history.history['loss']\n",
    "    \n",
    "    if 'val_accuracy' in history.history:\n",
    "        val_acc = history.history['val_accuracy']\n",
    "        val_loss = history.history['val_loss']\n",
    "\n",
    "    epochs_range = range(epochs)\n",
    "\n",
    "    plt.figure(figsize=(12, 4))\n",
    "    plt.subplot(1, 2, 1)\n",
    "    plt.plot(epochs_range, acc, label='Training Accuracy')\n",
    "    \n",
    "    if 'val_accuracy' in history.history:\n",
    "        plt.plot(epochs_range, val_acc, label='Validation Accuracy')\n",
    "\n",
    "    plt.legend(loc='lower right')\n",
    "    plt.title('Training and Validation Accuracy')\n",
    "\n",
    "    plt.subplot(1, 2, 2)\n",
    "    plt.plot(epochs_range, loss, label='Training Loss')\n",
    "\n",
    "    if 'val_accuracy' in history.history:\n",
    "        plt.plot(epochs_range, val_loss, label='Validation Loss')\n",
    "\n",
    "    plt.legend(loc='upper right')\n",
    "    plt.title('Training and Validation Loss')\n",
    "    plt.savefig(os.path.join(model_dir, (name + '.png')))\n",
    "    plt.show()"
   ]
  },
  {
   "cell_type": "markdown",
   "metadata": {},
   "source": [
    "## Create Pretrain Model"
   ]
  },
  {
   "cell_type": "code",
   "execution_count": null,
   "metadata": {},
   "outputs": [],
   "source": [
    "pretrain_vgg16 = tf.keras.applications.vgg16.VGG16(\n",
    "    include_top = False,\n",
    "    input_shape = (height, width, channels),\n",
    "    pooling = 'avg',\n",
    "    classes = 43,\n",
    "    weights = 'imagenet'\n",
    ")\n",
    "\n",
    "pretrain_vgg16.trainable = False\n",
    "\n",
    "pretrain_resnet50 = tf.keras.applications.ResNet50(\n",
    "    include_top = False,\n",
    "    input_shape = (height, width, channels),\n",
    "    pooling = 'avg',\n",
    "    classes = 43,\n",
    "    weights = 'imagenet'\n",
    ")\n",
    "\n",
    "pretrain_resnet50.trainable = False\n",
    "\n",
    "pretrain_inceptionv3 = tf.keras.applications.inception_v3.InceptionV3(\n",
    "    include_top = False,\n",
    "    input_shape = (height, width, channels),\n",
    "    pooling = 'avg',\n",
    "    classes = 43,\n",
    "    weights = 'imagenet'\n",
    ")\n",
    "\n",
    "pretrain_inceptionv3.trainable = False\n",
    "\n",
    "pretrain_xception = tf.keras.applications.xception.Xception(\n",
    "    include_top = False,\n",
    "    input_shape = (height, width, channels),\n",
    "    pooling = 'avg',\n",
    "    classes = 43,\n",
    "    weights = 'imagenet'\n",
    ")\n",
    "\n",
    "pretrain_xception.trainable = False"
   ]
  },
  {
   "cell_type": "markdown",
   "metadata": {},
   "source": [
    "## Training Function"
   ]
  },
  {
   "cell_type": "code",
   "execution_count": null,
   "metadata": {},
   "outputs": [],
   "source": [
    "def TrainProcess(train, val, batch_size, learning_rate, epochs, pretrain_model, model_name, enhance_type):\n",
    "    name = '{}-{}-{}-{}-{}'.format(model_name, batch_size, learning_rate, epochs, enhance_type)\n",
    "    model_dir = os.path.join(basePath, '{}-model'.format(enhance_type))\n",
    "    history = TrainModel(train, val, learning_rate, epochs, pretrain_model, name, model_dir)\n",
    "\n",
    "    with open(os.path.join(model_dir, (name+ '.pickle')) , 'wb') as file_pi:\n",
    "        pickle.dump(history.history, file_pi)\n",
    "\n",
    "    EvaluateModel(name, history, epochs, model_dir)"
   ]
  },
  {
   "cell_type": "code",
   "execution_count": null,
   "metadata": {},
   "outputs": [],
   "source": [
    "def Train(train, val, batch_size, learning_rate, epochs, enhance_type=\"none\"):\n",
    "    TrainProcess(train, val, batch_size, learning_rate, epochs, pretrain_vgg16, 'vgg16', enhance_type)\n",
    "    TrainProcess(train, val, batch_size, learning_rate, epochs, pretrain_resnet50, 'resnet50', enhance_type)\n",
    "    TrainProcess(train, val, batch_size, learning_rate, epochs, pretrain_inceptionv3, 'inceptionv3', enhance_type)\n",
    "    TrainProcess(train, val, batch_size, learning_rate, epochs, pretrain_xception, 'xception', enhance_type)"
   ]
  },
  {
   "cell_type": "markdown",
   "metadata": {},
   "source": [
    "# Train Models"
   ]
  },
  {
   "cell_type": "markdown",
   "metadata": {},
   "source": [
    "## Default Configuration"
   ]
  },
  {
   "cell_type": "code",
   "execution_count": null,
   "metadata": {},
   "outputs": [],
   "source": [
    "batch_size = 32\n",
    "learning_rate = 3\n",
    "epochs = 50"
   ]
  },
  {
   "cell_type": "markdown",
   "metadata": {},
   "source": [
    "## No Image Enhancement"
   ]
  },
  {
   "cell_type": "code",
   "execution_count": null,
   "metadata": {},
   "outputs": [],
   "source": [
    "train, val = load_img(trainPath, batch_size)\n",
    "Train(train, val, batch_size, learning_rate, epochs)"
   ]
  },
  {
   "cell_type": "markdown",
   "metadata": {},
   "source": [
    "## With Image Enhancement"
   ]
  },
  {
   "cell_type": "code",
   "execution_count": null,
   "metadata": {},
   "outputs": [],
   "source": [
    "enhance = \"gaussian\"\n",
    "train, val = load_img(os.path.join(basePath, (enhance + \"-train\")), batch_size)\n",
    "Train(train, val, batch_size, learning_rate, epochs, enhance)"
   ]
  },
  {
   "cell_type": "code",
   "execution_count": null,
   "metadata": {},
   "outputs": [],
   "source": [
    "enhance = \"sharpen\"\n",
    "train, val = load_img(os.path.join(basePath, (enhance + \"-train\")), batch_size)\n",
    "Train(train, val, batch_size, learning_rate, epochs, enhance)"
   ]
  },
  {
   "cell_type": "code",
   "execution_count": null,
   "metadata": {},
   "outputs": [],
   "source": [
    "enhance = \"clahe\"\n",
    "train, val = load_img(os.path.join(basePath, (enhance + \"-train\")), batch_size)\n",
    "Train(train, val, batch_size, learning_rate, epochs, enhance)"
   ]
  },
  {
   "cell_type": "code",
   "execution_count": null,
   "metadata": {},
   "outputs": [],
   "source": [
    "enhance = \"combo\"\n",
    "train, val = load_img(os.path.join(basePath, (enhance + \"-train\")), batch_size)\n",
    "Train(train, val, batch_size, learning_rate, epochs, enhance)"
   ]
  },
  {
   "cell_type": "markdown",
   "metadata": {},
   "source": [
    "## Robust Model"
   ]
  },
  {
   "cell_type": "code",
   "execution_count": null,
   "metadata": {},
   "outputs": [],
   "source": [
    "train = tf.keras.preprocessing.image_dataset_from_directory(\n",
    "    os.path.join(basePath, \"robust-train\"),\n",
    "    labels = \"inferred\",\n",
    "    label_mode = label,\n",
    "    color_mode = \"rgb\",\n",
    "    batch_size = batch_size,\n",
    "    image_size = (height, width),\n",
    "    shuffle = True,\n",
    "    seed = 42,\n",
    ")\n",
    "\n",
    "Train(train, None, batch_size, learning_rate, epochs, \"robust\")"
   ]
  },
  {
   "cell_type": "markdown",
   "metadata": {},
   "source": [
    "## Manual Tuning Parameter"
   ]
  },
  {
   "cell_type": "markdown",
   "metadata": {},
   "source": [
    "Default tuning parameter configuration mention below:\n",
    "| Model    | Batch Size | Learning Rate |\n",
    "|--------- |------------|---------------|\n",
    "| Xception | 32         | 0.001         |\n",
    "| Xception | 64         | 0.0001        |\n",
    "| Xception | 32         | 0.001         |\n",
    "| Xception | 64         | 0.0001        |\n",
    "\n",
    "Note:\n",
    "- Xception was selected based on the previous best model\n",
    "- Model with 32 batch size and 0.001 has been trained in the previous stage"
   ]
  },
  {
   "cell_type": "code",
   "execution_count": null,
   "metadata": {},
   "outputs": [],
   "source": [
    "batch_size = 32\n",
    "learning_rate = 4"
   ]
  },
  {
   "cell_type": "code",
   "execution_count": null,
   "metadata": {},
   "outputs": [],
   "source": [
    "enhance = \"gaussian\"\n",
    "train, val = load_img(os.path.join(basePath, (enhance + \"-train\")), batch_size)\n",
    "TrainProcess(train, val, batch_size, learning_rate, epochs, pretrain_xception, 'xception', enhance)"
   ]
  },
  {
   "cell_type": "code",
   "execution_count": null,
   "metadata": {},
   "outputs": [],
   "source": [
    "batch_size = 64\n",
    "learning_rate = 3"
   ]
  },
  {
   "cell_type": "code",
   "execution_count": null,
   "metadata": {},
   "outputs": [],
   "source": [
    "enhance = \"gaussian\"\n",
    "train, val = load_img(os.path.join(basePath, (enhance + \"-train\")), batch_size)\n",
    "TrainProcess(train, val, batch_size, learning_rate, epochs, pretrain_xception, 'xception', enhance)"
   ]
  },
  {
   "cell_type": "code",
   "execution_count": null,
   "metadata": {},
   "outputs": [],
   "source": [
    "batch_size = 64\n",
    "learning_rate = 4"
   ]
  },
  {
   "cell_type": "code",
   "execution_count": null,
   "metadata": {},
   "outputs": [],
   "source": [
    "enhance = \"gaussian\"\n",
    "train, val = load_img(os.path.join(basePath, (enhance + \"-train\")), batch_size)\n",
    "TrainProcess(train, val, batch_size, learning_rate, epochs, pretrain_xception, 'xception', enhance)"
   ]
  }
 ],
 "metadata": {
  "kernelspec": {
   "display_name": "TugasAkhir",
   "language": "python",
   "name": "python3"
  },
  "language_info": {
   "codemirror_mode": {
    "name": "ipython",
    "version": 3
   },
   "file_extension": ".py",
   "mimetype": "text/x-python",
   "name": "python",
   "nbconvert_exporter": "python",
   "pygments_lexer": "ipython3",
   "version": "3.11.2"
  },
  "orig_nbformat": 4
 },
 "nbformat": 4,
 "nbformat_minor": 2
}
