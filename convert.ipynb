{
 "cells": [
  {
   "cell_type": "markdown",
   "metadata": {},
   "source": [
    "# Import & Path"
   ]
  },
  {
   "cell_type": "markdown",
   "metadata": {},
   "source": [
    "## Import"
   ]
  },
  {
   "cell_type": "code",
   "execution_count": null,
   "metadata": {},
   "outputs": [],
   "source": [
    "import os\n",
    "from PIL import Image"
   ]
  },
  {
   "cell_type": "markdown",
   "metadata": {},
   "source": [
    "## Path"
   ]
  },
  {
   "cell_type": "code",
   "execution_count": null,
   "metadata": {},
   "outputs": [],
   "source": [
    "basePath = os.getcwd()\n",
    "trainPath = os.path.join(os.getcwd(), \"Images\")\n",
    "testPath = os.path.join(os.getcwd(), \"Online-Test-sort\")\n",
    "print(trainPath)\n",
    "print(testPath)"
   ]
  },
  {
   "cell_type": "markdown",
   "metadata": {},
   "source": [
    "# Convert PPM to JPG"
   ]
  },
  {
   "cell_type": "markdown",
   "metadata": {},
   "source": [
    "Convert is used when you use image_dataset_from_directory() to train the model. Ignore it if you don't need it"
   ]
  },
  {
   "cell_type": "markdown",
   "metadata": {},
   "source": [
    "## Convert Function"
   ]
  },
  {
   "cell_type": "code",
   "execution_count": null,
   "metadata": {},
   "outputs": [],
   "source": [
    "def convert(data_dir):\n",
    "    for category in os.listdir(data_dir):\n",
    "        for file in os.listdir(os.path.join(data_dir, category)):\n",
    "            if file.endswith(\".ppm\"):\n",
    "                im = Image.open(os.path.join(data_dir, category, file))\n",
    "                im.save(os.path.join(data_dir, category, (file.split(\".\")[0] + \".jpg\")))\n",
    "                \n",
    "                if os.path.isfile(os.path.join(data_dir, category, file)):\n",
    "                    os.remove(os.path.join(data_dir, category, file))\n",
    "                else:\n",
    "                    print(os.path.join(data_dir, category, file))"
   ]
  },
  {
   "cell_type": "markdown",
   "metadata": {},
   "source": [
    "## Convert File"
   ]
  },
  {
   "cell_type": "code",
   "execution_count": null,
   "metadata": {},
   "outputs": [],
   "source": [
    "convert(trainPath)\n",
    "convert(testPath)"
   ]
  }
 ],
 "metadata": {
  "kernelspec": {
   "display_name": "TugasAkhir",
   "language": "python",
   "name": "python3"
  },
  "language_info": {
   "codemirror_mode": {
    "name": "ipython",
    "version": 3
   },
   "file_extension": ".py",
   "mimetype": "text/x-python",
   "name": "python",
   "nbconvert_exporter": "python",
   "pygments_lexer": "ipython3",
   "version": "3.11.2"
  },
  "orig_nbformat": 4
 },
 "nbformat": 4,
 "nbformat_minor": 2
}
